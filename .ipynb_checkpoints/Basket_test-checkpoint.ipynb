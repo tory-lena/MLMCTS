{
 "cells": [
  {
   "cell_type": "markdown",
   "metadata": {},
   "source": [
    "### Basket MDP"
   ]
  },
  {
   "cell_type": "code",
   "execution_count": null,
   "metadata": {},
   "outputs": [],
   "source": [
    "include(\"Basket.jl\");"
   ]
  },
  {
   "cell_type": "code",
   "execution_count": null,
   "metadata": {},
   "outputs": [],
   "source": [
    "include(\"simulate.jl\");"
   ]
  },
  {
   "cell_type": "code",
   "execution_count": null,
   "metadata": {},
   "outputs": [],
   "source": [
    "## estimate the trends using past data \n",
    "# IN: dt - data[t-dt:t] considered\n",
    "# OUT: Array{Tuple,1} of (µ, s) for each asset/stock\n",
    "\n",
    "function estimate_trends(Portfolio::Tuple, dt::Int64, t::Int64)\n",
    "    trends=Array{Tuple}(length(Portfolio))\n",
    "    for (i, asset) in zip(1:length(Portfolio), Portfolio)\n",
    "        trend=asset[max(1, t-dt):min(t, 252)]/asset[max(1, t-dt)]-1\n",
    "        trend=fit_mle(Normal, trend[2:end]-trend[1:end-1])\n",
    "        trends[i]=(trend.µ, trend.σ)\n",
    "    end\n",
    "    return trends\n",
    "end\n",
    "\n",
    "#if no look back window is given - take all the data\n",
    "estimate_trends(Portfolio::Tuple, t::Int64)=estimate_trends(Portfolio, 250, t) "
   ]
  },
  {
   "cell_type": "code",
   "execution_count": null,
   "metadata": {},
   "outputs": [],
   "source": [
    "apple=CSV.read(\"data/apple.csv\", nullable=false)\n",
    "amzn=CSV.read(\"data/AMZN.csv\", nullable=false)\n",
    "fb=CSV.read(\"data/FB.csv\", nullable=false)\n",
    "google=CSV.read(\"data/GOOG.csv\", nullable=false)\n",
    "nfx=CSV.read(\"data/NFLX.csv\", nullable=false)\n",
    "nvidia=CSV.read(\"data/NVDA.csv\", nullable=false);"
   ]
  },
  {
   "cell_type": "code",
   "execution_count": null,
   "metadata": {},
   "outputs": [],
   "source": [
    "# choose the portfolio you want to use\n",
    "# see example below \n",
    "# Rem: col 5 is the data we use - check the .csv files for more information\n",
    "\n",
    "Portfolio=(apple[:,5], amzn[:,5])#, google[:,5], nfx[:, 5])\n",
    "\n",
    "mdp = BasketMDP(Portfolio)\n",
    "si = initial_state(mdp)"
   ]
  },
  {
   "cell_type": "code",
   "execution_count": null,
   "metadata": {
    "collapsed": true
   },
   "outputs": [],
   "source": [
    "# check your requirements - not required\n",
    "# use when modifying code\n",
    "\n",
    "# @requirements_info MCTSSolver() BasketMDP(Portfolio) initial_state(BasketMDP(Portfolio));"
   ]
  },
  {
   "cell_type": "code",
   "execution_count": null,
   "metadata": {},
   "outputs": [],
   "source": [
    "function trending(stock::Array{Float64,1}, t::Int64, dt::Int64=10)\n",
    "    d=fit_mle(Normal,  100*(stock[max(1, t-dt)+1:min(t, length(stock))]./stock[max(1,t-dt):min(t, length(stock))-1]-1))\n",
    "    return d.μ, d.σ\n",
    "end"
   ]
  },
  {
   "cell_type": "code",
   "execution_count": null,
   "metadata": {
    "collapsed": true
   },
   "outputs": [],
   "source": [
    "# choose a solver - MCTS (classic) or DPW (double progressive widening, recommended)\n",
    "\n",
    "solver = DPWSolver(n_iterations=100, depth=5) #MCTSSolver(n_iterations=100, depth=3)\n",
    "policy = solve(solver, mdp);"
   ]
  },
  {
   "cell_type": "code",
   "execution_count": null,
   "metadata": {},
   "outputs": [],
   "source": [
    "tic()\n",
    "s=si\n",
    "for i=1:10\n",
    "    a = MCTS.action_info(policy, s)[1]\n",
    "    o = get_var(mdp, s.t) #[rand(Normal(stock[1], stock[2])) for  stock=s.assets] \n",
    "    r = ((s.x/100)*collect(a)')*o \n",
    "    println(\"At time \", s.t, \" we took action: \", a, \" and got reward \", r + s.x)\n",
    "    s = BasketState(s.t + mdp.dt, s.x + r, estimate_trends(mdp.Portfolio, s.t))\n",
    "end\n",
    "toc();"
   ]
  },
  {
   "cell_type": "code",
   "execution_count": null,
   "metadata": {
    "collapsed": true
   },
   "outputs": [],
   "source": []
  }
 ],
 "metadata": {
  "kernelspec": {
   "display_name": "Julia 0.6.0",
   "language": "julia",
   "name": "julia-0.6"
  },
  "language_info": {
   "file_extension": ".jl",
   "mimetype": "application/julia",
   "name": "julia",
   "version": "0.6.0"
  }
 },
 "nbformat": 4,
 "nbformat_minor": 2
}
